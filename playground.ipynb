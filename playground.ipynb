{
 "cells": [
  {
   "cell_type": "markdown",
   "metadata": {},
   "source": [
    "# WDTagger Playground\n",
    "\n",
    "I just do some experiments on WDTagger and DeepDanbooru to see how they work and how much code they can share.\n",
    "\n",
    "If I'm lucky enough, no modification is needed to make them work together."
   ]
  },
  {
   "cell_type": "code",
   "execution_count": 22,
   "metadata": {},
   "outputs": [],
   "source": [
    "from dbimutils import init_wdt\n",
    "from deepbooru import init_deepbooru, get_deepbooru_tags_from_model"
   ]
  },
  {
   "cell_type": "code",
   "execution_count": null,
   "metadata": {},
   "outputs": [],
   "source": [
    "model, tags = init_wdt()\n",
    "model_dd, tags_dd = init_deepbooru()\n",
    "# model.summary()\n",
    "# model_dd.summary()"
   ]
  },
  {
   "cell_type": "code",
   "execution_count": 8,
   "metadata": {},
   "outputs": [
    {
     "name": "stdout",
     "output_type": "stream",
     "text": [
      "WDT w/h 448 448\n",
      "DD  w/h 512 512\n"
     ]
    }
   ],
   "source": [
    "from pprint import pprint\n",
    "print(\"WDT w/h\", model.input_shape[2], model.input_shape[1])\n",
    "print(\"DD  w/h\", model_dd.input_shape[2], model_dd.input_shape[1])\n",
    "# https://github.com/KichangKim/DeepDanbooru/blob/c48689a85dde0e4a852c1691a7d746abe242e283/deepdanbooru/image/__init__.py#L25\n",
    "# the resolution of WDT is 448 x 448 which is smaller"
   ]
  },
  {
   "cell_type": "code",
   "execution_count": 35,
   "metadata": {},
   "outputs": [
    {
     "name": "stdout",
     "output_type": "stream",
     "text": [
      "['undone_necktie',\n",
      " 'gloves_removed',\n",
      " 'vertical-striped_bikini',\n",
      " 'holding_axe',\n",
      " 'asphyxiation']\n"
     ]
    },
    {
     "data": {
      "text/plain": [
       "list"
      ]
     },
     "execution_count": 35,
     "metadata": {},
     "output_type": "execute_result"
    }
   ],
   "source": [
    "import random\n",
    "pprint(random.sample(tags_dd, 5))\n",
    "type(tags_dd) # so tags_dd is list[str]"
   ]
  },
  {
   "cell_type": "code",
   "execution_count": 34,
   "metadata": {},
   "outputs": [
    {
     "name": "stdout",
     "output_type": "stream",
     "text": [
      "['honey', 'loafers', 'yellow_sleeves', 'solid_oval_eyes', 'arthropod_girl']\n"
     ]
    }
   ],
   "source": [
    "name = tags[\"name\"].tolist()\n",
    "pprint(random.sample(name, 5))"
   ]
  },
  {
   "cell_type": "code",
   "execution_count": 17,
   "metadata": {},
   "outputs": [],
   "source": [
    "from PIL import Image\n",
    "image = Image.open(\"example.png\").convert(\"RGB\")"
   ]
  },
  {
   "cell_type": "code",
   "execution_count": 24,
   "metadata": {},
   "outputs": [
    {
     "name": "stdout",
     "output_type": "stream",
     "text": [
      "1/1 [==============================] - 1s 1s/step\n",
      "1/1 [==============================] - 2s 2s/step\n",
      "'monochrome, greyscale, solo, 1girl'\n",
      "('river, japanese clothes, grass, tree, pond, 1girl, water, bridge, waterfall, '\n",
      " 'outdoors, white kimono, bush, bell, miko, lake, nature, solo, scenery, '\n",
      " 'kimono, forest, path, flower, day, shrine, rock, wide sleeves, jingle bell, '\n",
      " 'torii, holding, eyebrows visible through hair, moss')\n"
     ]
    }
   ],
   "source": [
    "threshold = 0.75\n",
    "wdt_prompt = get_deepbooru_tags_from_model(model, name, image, threshold)\n",
    "dd_prompt = get_deepbooru_tags_from_model(model_dd, tags_dd, image, threshold)\n",
    "pprint(wdt_prompt)\n",
    "pprint(dd_prompt)\n",
    "# okay... so wdt thinks it's monocrhome, that's interesting"
   ]
  }
 ],
 "metadata": {
  "kernelspec": {
   "display_name": "Python 3.9.6 64-bit",
   "language": "python",
   "name": "python3"
  },
  "language_info": {
   "codemirror_mode": {
    "name": "ipython",
    "version": 3
   },
   "file_extension": ".py",
   "mimetype": "text/x-python",
   "name": "python",
   "nbconvert_exporter": "python",
   "pygments_lexer": "ipython3",
   "version": "3.9.6"
  },
  "orig_nbformat": 4,
  "vscode": {
   "interpreter": {
    "hash": "31f2aee4e71d21fbe5cf8b01ff0e069b9275f58929596ceb00d14d90e3e16cd6"
   }
  }
 },
 "nbformat": 4,
 "nbformat_minor": 2
}
