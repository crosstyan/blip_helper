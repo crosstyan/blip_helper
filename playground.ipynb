{
 "cells": [
  {
   "cell_type": "markdown",
   "metadata": {},
   "source": [
    "# WDTagger Playground\n",
    "\n",
    "I just do some experiments on WDTagger and DeepDanbooru to see how they work and how much code they can share.\n",
    "\n",
    "If I'm lucky enough, no modification is needed to make them work together."
   ]
  },
  {
   "cell_type": "code",
   "execution_count": 22,
   "metadata": {},
   "outputs": [],
   "source": [
    "from dbimutils import init_wdt\n",
    "from deepbooru import init_deepbooru, get_deepbooru_tags_from_model"
   ]
  },
  {
   "cell_type": "code",
   "execution_count": null,
   "metadata": {},
   "outputs": [],
   "source": [
    "model, tags = init_wdt()\n",
    "model_dd, tags_dd = init_deepbooru()\n",
    "# model.summary()\n",
    "# model_dd.summary()"
   ]
  },
  {
   "cell_type": "code",
   "execution_count": 8,
   "metadata": {},
   "outputs": [
    {
     "name": "stdout",
     "output_type": "stream",
     "text": [
      "WDT w/h 448 448\n",
      "DD  w/h 512 512\n"
     ]
    }
   ],
   "source": [
    "from pprint import pprint\n",
    "print(\"WDT w/h\", model.input_shape[2], model.input_shape[1])\n",
    "print(\"DD  w/h\", model_dd.input_shape[2], model_dd.input_shape[1])\n",
    "# https://github.com/KichangKim/DeepDanbooru/blob/c48689a85dde0e4a852c1691a7d746abe242e283/deepdanbooru/image/__init__.py#L25\n",
    "# the resolution of WDT is 448 x 448 which is smaller"
   ]
  },
  {
   "cell_type": "code",
   "execution_count": 39,
   "metadata": {},
   "outputs": [
    {
     "name": "stdout",
     "output_type": "stream",
     "text": [
      "['cockpit',\n",
      " 'black_legwear',\n",
      " 'wind_lift',\n",
      " 'two-handed_handjob',\n",
      " 'hands_on_own_knees']\n"
     ]
    },
    {
     "data": {
      "text/plain": [
       "list"
      ]
     },
     "execution_count": 39,
     "metadata": {},
     "output_type": "execute_result"
    }
   ],
   "source": [
    "import random\n",
    "pprint(random.sample(tags_dd, 5))\n",
    "type(tags_dd) # so tags_dd is list[str]"
   ]
  },
  {
   "cell_type": "code",
   "execution_count": 34,
   "metadata": {},
   "outputs": [
    {
     "name": "stdout",
     "output_type": "stream",
     "text": [
      "['honey', 'loafers', 'yellow_sleeves', 'solid_oval_eyes', 'arthropod_girl']\n"
     ]
    }
   ],
   "source": [
    "name = tags[\"name\"].tolist()\n",
    "pprint(random.sample(name, 5))"
   ]
  },
  {
   "cell_type": "code",
   "execution_count": 46,
   "metadata": {},
   "outputs": [],
   "source": [
    "from PIL import Image\n",
    "image_path = \"example.jpg\"\n",
    "image = Image.open(image_path).convert(\"RGB\")"
   ]
  },
  {
   "cell_type": "code",
   "execution_count": 52,
   "metadata": {},
   "outputs": [
    {
     "name": "stdout",
     "output_type": "stream",
     "text": [
      "1/1 [==============================] - 1s 1s/step\n",
      "('1girl, solo, long_hair, hair_ornament, gloves, animal_ears, blue_hair, '\n",
      " 'braid, white_hair, multicolored_hair, black_gloves, virtual_youtuber, '\n",
      " 'rabbit_ears, twin_braids, two-tone_hair, animal_ear_fluff, pink_background, '\n",
      " 'thick_eyebrows, food-themed_hair_ornament, fur-trimmed_gloves, '\n",
      " 'carrot_hair_ornament')\n"
     ]
    }
   ],
   "source": [
    "import dbimutils\n",
    "import numpy as np\n",
    "image_size = model.input_shape[1]\n",
    "# okay...I will just copy and paste the code\n",
    "img = dbimutils.smart_imread(image_path)\n",
    "img = dbimutils.smart_24bit(img)\n",
    "img = dbimutils.make_square(img, image_size)\n",
    "img = dbimutils.smart_resize(img, image_size)\n",
    "img = img.astype(np.float32)\n",
    "\n",
    "probs = model.predict(np.array([img]))\n",
    "tags[\"probs\"] = probs[0]\n",
    "\n",
    "thresh = 0.75\n",
    "\n",
    "tags_names = tags[4:]\n",
    "found_tags = tags_names[tags_names[\"probs\"] > thresh][[\"tag_id\", \"name\", \"probs\"]]\n",
    "# result_tags_out = found_tags[[\"name\", \"probs\"]].to_dict(orient=\"records\")\n",
    "result_tags_unsorted = found_tags[\"name\"].to_list()\n",
    "res = \", \".join(result_tags_unsorted)\n",
    "pprint(res)\n",
    "# pprint(found_tags)"
   ]
  },
  {
   "cell_type": "code",
   "execution_count": 42,
   "metadata": {},
   "outputs": [
    {
     "name": "stdout",
     "output_type": "stream",
     "text": [
      "1/1 [==============================] - 1s 1s/step\n",
      "1/1 [==============================] - 0s 211ms/step\n",
      "('monochrome, greyscale, solo, 1girl, lineart, transparent background, '\n",
      " 'sensitive, long hair, looking at viewer')\n",
      "('animal ears, rabbit ears, virtual youtuber, usada pekora, carrot hair '\n",
      " 'ornament, food-themed hair ornament, animal ear fluff, multicolored hair, '\n",
      " 'braid, hair ornament, rabbit girl, two-tone hair, 1girl, don-chan \\\\(usada '\n",
      " 'pekora\\\\), twin braids, blue hair, extra ears, white hair, playboy bunny, '\n",
      " 'black gloves, black leotard, gloves, carrot, fur scarf, arm cuffs, leotard, '\n",
      " 'fur-trimmed gloves, long hair, thick eyebrows, pink background, white '\n",
      " 'sleeves, simple background, creature, eyebrows visible through hair, looking '\n",
      " 'at viewer, white outline, fur trim, closed mouth')\n"
     ]
    }
   ],
   "source": [
    "threshold = 0.75\n",
    "wdt_prompt = get_deepbooru_tags_from_model(model, name, image, 0.35)\n",
    "dd_prompt = get_deepbooru_tags_from_model(model_dd, tags_dd, image, threshold)\n",
    "pprint(wdt_prompt)\n",
    "pprint(dd_prompt)\n",
    "# okay... so wdt thinks it's monocrhome, that's interesting"
   ]
  }
 ],
 "metadata": {
  "kernelspec": {
   "display_name": "Python 3.9.6 64-bit",
   "language": "python",
   "name": "python3"
  },
  "language_info": {
   "codemirror_mode": {
    "name": "ipython",
    "version": 3
   },
   "file_extension": ".py",
   "mimetype": "text/x-python",
   "name": "python",
   "nbconvert_exporter": "python",
   "pygments_lexer": "ipython3",
   "version": "3.9.6"
  },
  "orig_nbformat": 4,
  "vscode": {
   "interpreter": {
    "hash": "31f2aee4e71d21fbe5cf8b01ff0e069b9275f58929596ceb00d14d90e3e16cd6"
   }
  }
 },
 "nbformat": 4,
 "nbformat_minor": 2
}
